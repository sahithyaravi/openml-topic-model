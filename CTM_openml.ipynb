{
 "cells": [
  {
   "cell_type": "code",
   "execution_count": null,
   "metadata": {},
   "outputs": [],
   "source": [
    "!virtualenv o"
   ]
  },
  {
   "cell_type": "code",
   "execution_count": 5,
   "metadata": {
    "colab": {
     "base_uri": "https://localhost:8080/",
     "height": 1000
    },
    "executionInfo": {
     "elapsed": 28881,
     "status": "ok",
     "timestamp": 1602749982345,
     "user": {
      "displayName": "Sahithya Ravi",
      "photoUrl": "",
      "userId": "09578971487708728466"
     },
     "user_tz": -120
    },
    "id": "CKZRT3D_NmPD",
    "outputId": "c662a152-a77e-400a-b66d-b5b45119d2f1"
   },
   "outputs": [
    {
     "name": "stdout",
     "output_type": "stream",
     "text": [
      "Collecting contextualized_topic_models\n",
      "  Using cached https://files.pythonhosted.org/packages/f0/a6/a4abbeec089fae1f30596ce0e9907817052ef5b4e65e183e0902f3688b11/contextualized_topic_models-1.5.0-py2.py3-none-any.whl\n",
      "Collecting torch==1.6.0 (from contextualized_topic_models)\n"
     ]
    },
    {
     "name": "stderr",
     "output_type": "stream",
     "text": [
      "  Could not find a version that satisfies the requirement torch==1.6.0 (from contextualized_topic_models) (from versions: 0.1.2, 0.1.2.post1, 0.1.2.post2)\n",
      "No matching distribution found for torch==1.6.0 (from contextualized_topic_models)\n"
     ]
    }
   ],
   "source": [
    "!pip install -U contextualized_topic_models"
   ]
  },
  {
   "cell_type": "code",
   "execution_count": 2,
   "metadata": {
    "colab": {
     "base_uri": "https://localhost:8080/",
     "height": 134
    },
    "executionInfo": {
     "elapsed": 31612,
     "status": "ok",
     "timestamp": 1602749985088,
     "user": {
      "displayName": "Sahithya Ravi",
      "photoUrl": "",
      "userId": "09578971487708728466"
     },
     "user_tz": -120
    },
    "id": "IhW6rbXpNpQ4",
    "outputId": "c76f8f8e-aa92-4a93-9881-562d5845975e"
   },
   "outputs": [
    {
     "name": "stderr",
     "output_type": "stream",
     "text": [
      "Cloning into 'contextualized-topic-models'...\n"
     ]
    }
   ],
   "source": [
    "# !git clone https://github.com/MilaNLProc/contextualized-topic-models.git"
   ]
  },
  {
   "cell_type": "code",
   "execution_count": 4,
   "metadata": {
    "executionInfo": {
     "elapsed": 581,
     "status": "ok",
     "timestamp": 1602750293722,
     "user": {
      "displayName": "Sahithya Ravi",
      "photoUrl": "",
      "userId": "09578971487708728466"
     },
     "user_tz": -120
    },
    "id": "-F2PVBWBOFzE"
   },
   "outputs": [
    {
     "ename": "ModuleNotFoundError",
     "evalue": "No module named 'contextualized_topic_models'",
     "output_type": "error",
     "traceback": [
      "\u001b[1;31m---------------------------------------------------------------------------\u001b[0m",
      "\u001b[1;31mModuleNotFoundError\u001b[0m                       Traceback (most recent call last)",
      "\u001b[1;32m<ipython-input-4-69db42345cdc>\u001b[0m in \u001b[0;36m<module>\u001b[1;34m\u001b[0m\n\u001b[1;32m----> 1\u001b[1;33m \u001b[1;32mfrom\u001b[0m \u001b[0mcontextualized_topic_models\u001b[0m\u001b[1;33m.\u001b[0m\u001b[0mmodels\u001b[0m\u001b[1;33m.\u001b[0m\u001b[0mctm\u001b[0m \u001b[1;32mimport\u001b[0m \u001b[0mCTM\u001b[0m\u001b[1;33m\u001b[0m\u001b[1;33m\u001b[0m\u001b[0m\n\u001b[0m\u001b[0;32m      2\u001b[0m \u001b[1;32mimport\u001b[0m \u001b[0mos\u001b[0m\u001b[1;33m\u001b[0m\u001b[1;33m\u001b[0m\u001b[0m\n\u001b[0;32m      3\u001b[0m \u001b[1;32mimport\u001b[0m \u001b[0mpickle\u001b[0m\u001b[1;33m\u001b[0m\u001b[1;33m\u001b[0m\u001b[0m\n\u001b[0;32m      4\u001b[0m \u001b[1;32mfrom\u001b[0m \u001b[0mcontextualized_topic_models\u001b[0m\u001b[1;33m.\u001b[0m\u001b[0mutils\u001b[0m\u001b[1;33m.\u001b[0m\u001b[0mdata_preparation\u001b[0m \u001b[1;32mimport\u001b[0m \u001b[0mTextHandler\u001b[0m\u001b[1;33m\u001b[0m\u001b[1;33m\u001b[0m\u001b[0m\n\u001b[0;32m      5\u001b[0m \u001b[1;32mfrom\u001b[0m \u001b[0mcontextualized_topic_models\u001b[0m\u001b[1;33m.\u001b[0m\u001b[0mdatasets\u001b[0m\u001b[1;33m.\u001b[0m\u001b[0mdataset\u001b[0m \u001b[1;32mimport\u001b[0m \u001b[0mCTMDataset\u001b[0m\u001b[1;33m\u001b[0m\u001b[1;33m\u001b[0m\u001b[0m\n",
      "\u001b[1;31mModuleNotFoundError\u001b[0m: No module named 'contextualized_topic_models'"
     ]
    }
   ],
   "source": [
    "from contextualized_topic_models.contextualized_topic_models.models.ctm import CTM\n",
    "import os\n",
    "import pickle\n",
    "from contextualized_topic_models.utils.data_preparation import TextHandler\n",
    "from contextualized_topic_models.datasets.dataset import CTMDataset\n",
    "from contextualized_topic_models.utils.data_preparation import bert_embeddings_from_file"
   ]
  },
  {
   "cell_type": "code",
   "execution_count": 9,
   "metadata": {
    "executionInfo": {
     "elapsed": 740,
     "status": "ok",
     "timestamp": 1602750643189,
     "user": {
      "displayName": "Sahithya Ravi",
      "photoUrl": "",
      "userId": "09578971487708728466"
     },
     "user_tz": -120
    },
    "id": "KceEi_mpTWn7"
   },
   "outputs": [],
   "source": [
    "df = "
   ]
  },
  {
   "cell_type": "code",
   "execution_count": 11,
   "metadata": {
    "colab": {
     "base_uri": "https://localhost:8080/",
     "height": 1000,
     "referenced_widgets": [
      "55e71a4ec084463f993da50d1dc17144",
      "73fa12cb67c34fb5a711477aef2602fe",
      "b69a5d953d04447f80d1d6f5d68c2488",
      "0bdba7948a2f439791f9bfc9d13c8771",
      "ac0a1f26448a4ca29a61e0d0210f6236",
      "9d25e4a975dd40a19febc6ac21d875b8",
      "3a6027c464354a198fa9f6b1bdb5f436",
      "1556b4bdb50047ca9f26b847687e6174"
     ]
    },
    "executionInfo": {
     "elapsed": 705844,
     "status": "ok",
     "timestamp": 1602752415411,
     "user": {
      "displayName": "Sahithya Ravi",
      "photoUrl": "",
      "userId": "09578971487708728466"
     },
     "user_tz": -120
    },
    "id": "ZoVUIPnTOzkD",
    "outputId": "3b457e61-9820-4ef4-f6a9-97c750d159d4"
   },
   "outputs": [
    {
     "name": "stderr",
     "output_type": "stream",
     "text": [
      "\n",
      "  0%|          | 0.00/405M [00:00<?, ?B/s]\u001b[A\n",
      "  0%|          | 16.4k/405M [00:00<47:11, 143kB/s]\u001b[A\n",
      "  0%|          | 32.8k/405M [00:00<50:18, 134kB/s]\u001b[A\n",
      "  0%|          | 65.5k/405M [00:00<43:51, 154kB/s]\u001b[A\n",
      "  0%|          | 98.3k/405M [00:00<39:20, 172kB/s]\u001b[A\n",
      "  0%|          | 131k/405M [00:00<36:10, 187kB/s] \u001b[A\n",
      "  0%|          | 164k/405M [00:00<33:57, 199kB/s]\u001b[A\n",
      "  0%|          | 213k/405M [00:00<29:31, 229kB/s]\u001b[A\n",
      "  0%|          | 279k/405M [00:01<24:59, 270kB/s]\u001b[A\n",
      "  0%|          | 344k/405M [00:01<21:48, 310kB/s]\u001b[A\n",
      "  0%|          | 410k/405M [00:01<19:34, 345kB/s]\u001b[A\n",
      "  0%|          | 492k/405M [00:01<17:09, 393kB/s]\u001b[A\n",
      "  0%|          | 573k/405M [00:01<15:27, 436kB/s]\u001b[A\n",
      "  0%|          | 688k/405M [00:01<13:17, 507kB/s]\u001b[A\n",
      " 93%|█████████▎| 467M/504M [00:40<00:01, 21.5MB/s]\n",
      "  0%|          | 934k/405M [00:02<10:22, 649kB/s]\u001b[A\n",
      "  0%|          | 1.08M/405M [00:02<09:10, 734kB/s]\u001b[A\n",
      "  0%|          | 1.26M/405M [00:02<08:00, 840kB/s]\u001b[A\n",
      "  0%|          | 1.46M/405M [00:02<07:00, 959kB/s]\u001b[A\n",
      "  0%|          | 1.67M/405M [00:02<06:13, 1.08MB/s]\u001b[A\n",
      "  0%|          | 1.92M/405M [00:02<05:30, 1.22MB/s]\u001b[A\n",
      "  1%|          | 2.16M/405M [00:02<04:59, 1.34MB/s]\u001b[A\n",
      "  1%|          | 2.44M/405M [00:03<04:30, 1.49MB/s]\u001b[A\n",
      "  1%|          | 2.75M/405M [00:03<04:10, 1.61MB/s]\u001b[A\n",
      "  1%|          | 3.08M/405M [00:03<03:46, 1.78MB/s]\u001b[A\n",
      "  1%|          | 3.42M/405M [00:03<03:27, 1.94MB/s]\u001b[A\n",
      "  1%|          | 3.78M/405M [00:03<03:05, 2.16MB/s]\u001b[A\n",
      "  1%|          | 4.16M/405M [00:03<02:54, 2.30MB/s]\u001b[A\n",
      "  1%|          | 4.55M/405M [00:03<02:45, 2.43MB/s]\u001b[A\n",
      "  1%|          | 4.98M/405M [00:04<02:34, 2.58MB/s]\u001b[A\n",
      "  1%|▏         | 5.42M/405M [00:04<02:26, 2.73MB/s]\u001b[A\n",
      "  1%|▏         | 5.90M/405M [00:04<02:17, 2.90MB/s]\u001b[A\n",
      "  2%|▏         | 6.37M/405M [00:04<02:11, 3.03MB/s]\u001b[A\n",
      "  2%|▏         | 6.88M/405M [00:04<02:05, 3.19MB/s]\u001b[A\n",
      "  2%|▏         | 7.42M/405M [00:04<01:58, 3.36MB/s]\u001b[A\n",
      "  2%|▏         | 7.98M/405M [00:04<01:52, 3.53MB/s]\u001b[A\n",
      "  2%|▏         | 8.57M/405M [00:05<01:46, 3.71MB/s]\u001b[A\n",
      "  2%|▏         | 9.18M/405M [00:05<01:51, 3.55MB/s]\u001b[A\n",
      "  2%|▏         | 9.81M/405M [00:05<01:43, 3.81MB/s]\u001b[A\n",
      "  3%|▎         | 10.5M/405M [00:05<01:37, 4.03MB/s]\u001b[A\n",
      "  3%|▎         | 11.1M/405M [00:05<01:33, 4.24MB/s]\u001b[A\n",
      "  3%|▎         | 11.8M/405M [00:05<01:32, 4.25MB/s]\u001b[A\n",
      "  3%|▎         | 12.6M/405M [00:05<01:23, 4.68MB/s]\u001b[A\n",
      "  3%|▎         | 13.3M/405M [00:06<01:21, 4.78MB/s]\u001b[A\n",
      "  3%|▎         | 14.0M/405M [00:06<01:19, 4.92MB/s]\u001b[A\n",
      "  4%|▎         | 14.7M/405M [00:06<01:17, 5.01MB/s]\u001b[A\n",
      "  4%|▍         | 15.5M/405M [00:06<01:15, 5.15MB/s]\u001b[A\n",
      "  4%|▍         | 16.3M/405M [00:06<01:13, 5.28MB/s]\u001b[A\n",
      "  4%|▍         | 17.1M/405M [00:06<01:11, 5.44MB/s]\u001b[A\n",
      "  4%|▍         | 18.0M/405M [00:06<01:08, 5.62MB/s]\u001b[A\n",
      "  5%|▍         | 18.8M/405M [00:07<01:06, 5.82MB/s]\u001b[A\n",
      "  5%|▍         | 19.7M/405M [00:07<00:59, 6.51MB/s]\u001b[A\n",
      "  5%|▌         | 20.4M/405M [00:07<00:58, 6.59MB/s]\u001b[A\n",
      "  5%|▌         | 21.1M/405M [00:07<01:02, 6.11MB/s]\u001b[A\n",
      "  5%|▌         | 21.7M/405M [00:07<01:02, 6.16MB/s]\u001b[A\n",
      "  6%|▌         | 22.8M/405M [00:07<00:59, 6.48MB/s]\u001b[A\n",
      "  6%|▌         | 23.8M/405M [00:07<00:54, 6.94MB/s]\u001b[A\n",
      "  6%|▌         | 24.9M/405M [00:07<00:49, 7.74MB/s]\u001b[A\n",
      "  6%|▋         | 25.9M/405M [00:07<00:45, 8.30MB/s]\u001b[A\n",
      "  7%|▋         | 26.8M/405M [00:08<00:49, 7.63MB/s]\u001b[A\n",
      "  7%|▋         | 27.6M/405M [00:08<00:52, 7.18MB/s]\u001b[A\n",
      "  7%|▋         | 28.6M/405M [00:08<00:48, 7.79MB/s]\u001b[A\n",
      "  7%|▋         | 29.9M/405M [00:08<00:44, 8.39MB/s]\u001b[A\n",
      "  8%|▊         | 31.2M/405M [00:08<00:40, 9.32MB/s]\u001b[A\n",
      "  8%|▊         | 32.2M/405M [00:08<00:39, 9.38MB/s]\u001b[A\n",
      "  8%|▊         | 33.2M/405M [00:08<00:41, 8.87MB/s]\u001b[A\n",
      "  8%|▊         | 34.3M/405M [00:08<00:39, 9.42MB/s]\u001b[A\n",
      "  9%|▉         | 35.8M/405M [00:08<00:34, 10.6MB/s]\u001b[A\n",
      "  9%|▉         | 36.9M/405M [00:09<00:36, 10.2MB/s]\u001b[A\n",
      "  9%|▉         | 38.0M/405M [00:09<00:36, 10.0MB/s]\u001b[A\n",
      " 10%|▉         | 39.1M/405M [00:09<00:35, 10.3MB/s]\u001b[A\n",
      " 10%|█         | 40.7M/405M [00:09<00:32, 11.2MB/s]\u001b[A\n",
      " 10%|█         | 42.3M/405M [00:09<00:29, 12.2MB/s]\u001b[A\n",
      " 11%|█         | 43.6M/405M [00:09<00:30, 11.9MB/s]\u001b[A\n",
      " 11%|█         | 44.8M/405M [00:09<00:31, 11.6MB/s]\u001b[A\n",
      " 11%|█▏        | 46.2M/405M [00:09<00:29, 12.1MB/s]\u001b[A\n",
      " 12%|█▏        | 48.0M/405M [00:09<00:26, 13.4MB/s]\u001b[A\n",
      " 12%|█▏        | 49.4M/405M [00:10<00:26, 13.3MB/s]\u001b[A\n",
      " 13%|█▎        | 50.8M/405M [00:10<00:26, 13.1MB/s]\u001b[A\n",
      " 13%|█▎        | 52.4M/405M [00:10<00:25, 13.6MB/s]\u001b[A\n",
      " 13%|█▎        | 54.4M/405M [00:10<00:23, 15.1MB/s]\u001b[A\n",
      " 14%|█▍        | 56.0M/405M [00:10<00:23, 15.1MB/s]\u001b[A\n",
      " 14%|█▍        | 57.5M/405M [00:10<00:23, 14.9MB/s]\u001b[A\n",
      " 15%|█▍        | 59.4M/405M [00:10<00:22, 15.6MB/s]\u001b[A\n",
      " 15%|█▌        | 61.8M/405M [00:10<00:19, 17.4MB/s]\u001b[A\n",
      " 16%|█▌        | 63.6M/405M [00:10<00:19, 17.2MB/s]\u001b[A\n",
      " 16%|█▌        | 65.4M/405M [00:10<00:19, 17.0MB/s]\u001b[A\n",
      " 17%|█▋        | 67.7M/405M [00:11<00:18, 18.4MB/s]\u001b[A\n",
      " 17%|█▋        | 70.1M/405M [00:11<00:17, 19.6MB/s]\u001b[A\n",
      " 18%|█▊        | 72.1M/405M [00:11<00:17, 19.3MB/s]\u001b[A\n",
      " 18%|█▊        | 74.2M/405M [00:11<00:16, 19.8MB/s]\u001b[A\n",
      " 19%|█▉        | 76.7M/405M [00:11<00:15, 21.1MB/s]\u001b[A\n",
      " 19%|█▉        | 78.9M/405M [00:11<00:16, 20.1MB/s]\u001b[A\n",
      " 20%|█▉        | 80.9M/405M [00:11<00:16, 20.2MB/s]\u001b[A\n",
      " 21%|██        | 83.5M/405M [00:11<00:15, 21.3MB/s]\u001b[A\n",
      " 21%|██        | 85.7M/405M [00:11<00:15, 20.5MB/s]\u001b[A\n",
      " 22%|██▏       | 87.8M/405M [00:12<00:15, 20.6MB/s]\u001b[A\n",
      " 22%|██▏       | 90.0M/405M [00:12<00:15, 21.0MB/s]\u001b[A\n",
      " 23%|██▎       | 92.2M/405M [00:12<00:14, 21.4MB/s]\u001b[A\n",
      " 23%|██▎       | 94.4M/405M [00:12<00:15, 20.7MB/s]\u001b[A\n",
      " 24%|██▍       | 96.4M/405M [00:12<00:15, 20.5MB/s]\u001b[A\n",
      " 24%|██▍       | 98.8M/405M [00:12<00:14, 21.2MB/s]\u001b[A\n",
      " 25%|██▍       | 101M/405M [00:12<00:14, 21.0MB/s] \u001b[A\n",
      " 25%|██▌       | 103M/405M [00:12<00:14, 20.3MB/s]\u001b[A\n",
      " 26%|██▌       | 105M/405M [00:12<00:14, 20.7MB/s]\u001b[A\n",
      " 26%|██▋       | 107M/405M [00:12<00:14, 20.6MB/s]\u001b[A\n",
      " 27%|██▋       | 110M/405M [00:13<00:13, 21.3MB/s]\u001b[A\n",
      " 28%|██▊       | 112M/405M [00:13<00:14, 20.8MB/s]\u001b[A\n",
      " 28%|██▊       | 114M/405M [00:13<00:14, 20.2MB/s]\u001b[A\n",
      " 29%|██▊       | 116M/405M [00:13<00:13, 20.8MB/s]\u001b[A\n",
      " 29%|██▉       | 118M/405M [00:13<00:13, 20.8MB/s]\u001b[A\n",
      " 30%|██▉       | 121M/405M [00:13<00:13, 20.8MB/s]\u001b[A\n",
      " 30%|███       | 123M/405M [00:13<00:13, 20.5MB/s]\u001b[A\n",
      " 31%|███       | 125M/405M [00:13<00:14, 20.0MB/s]\u001b[A\n",
      " 31%|███▏      | 127M/405M [00:13<00:12, 21.5MB/s]\u001b[A\n",
      " 32%|███▏      | 130M/405M [00:14<00:13, 20.4MB/s]\u001b[A\n",
      " 32%|███▏      | 132M/405M [00:14<00:13, 19.9MB/s]\u001b[A\n",
      " 33%|███▎      | 134M/405M [00:14<00:13, 20.5MB/s]\u001b[A\n",
      " 34%|███▎      | 137M/405M [00:14<00:12, 21.5MB/s]\u001b[A\n",
      " 34%|███▍      | 139M/405M [00:14<00:12, 21.0MB/s]\u001b[A\n",
      " 35%|███▍      | 141M/405M [00:14<00:13, 20.1MB/s]\u001b[A\n",
      " 35%|███▌      | 144M/405M [00:14<00:12, 21.6MB/s]\u001b[A\n",
      " 36%|███▌      | 146M/405M [00:14<00:12, 21.1MB/s]\u001b[A\n",
      " 37%|███▋      | 148M/405M [00:14<00:12, 20.6MB/s]\u001b[A\n",
      " 37%|███▋      | 150M/405M [00:15<00:12, 21.0MB/s]\u001b[A\n",
      " 38%|███▊      | 152M/405M [00:15<00:12, 21.0MB/s]\u001b[A\n",
      " 38%|███▊      | 154M/405M [00:15<00:12, 20.8MB/s]\u001b[A\n",
      " 39%|███▊      | 157M/405M [00:15<00:12, 20.1MB/s]\u001b[A\n",
      " 39%|███▉      | 159M/405M [00:15<00:11, 21.6MB/s]\u001b[A\n",
      " 40%|███▉      | 161M/405M [00:15<00:12, 20.1MB/s]\u001b[A\n",
      " 40%|████      | 164M/405M [00:15<00:11, 21.1MB/s]\u001b[A\n",
      " 41%|████      | 166M/405M [00:15<00:11, 20.1MB/s]\u001b[A\n",
      " 42%|████▏     | 168M/405M [00:15<00:11, 20.8MB/s]\u001b[A\n",
      " 42%|████▏     | 171M/405M [00:16<00:11, 21.2MB/s]\u001b[A\n",
      " 43%|████▎     | 173M/405M [00:16<00:11, 20.2MB/s]\u001b[A\n",
      " 43%|████▎     | 175M/405M [00:16<00:11, 20.8MB/s]\u001b[A\n",
      " 44%|████▍     | 177M/405M [00:16<00:11, 20.6MB/s]\u001b[A\n",
      " 44%|████▍     | 180M/405M [00:16<00:10, 21.5MB/s]\u001b[A\n",
      " 45%|████▍     | 182M/405M [00:16<00:10, 20.3MB/s]\u001b[A\n",
      " 46%|████▌     | 184M/405M [00:16<00:10, 21.5MB/s]\u001b[A\n",
      " 46%|████▌     | 187M/405M [00:16<00:10, 20.4MB/s]\u001b[A\n",
      " 47%|████▋     | 189M/405M [00:16<00:10, 20.7MB/s]\u001b[A\n",
      " 47%|████▋     | 191M/405M [00:16<00:10, 21.1MB/s]\u001b[A\n",
      " 48%|████▊     | 194M/405M [00:17<00:09, 21.8MB/s]\u001b[A\n",
      " 48%|████▊     | 196M/405M [00:17<00:09, 21.1MB/s]\u001b[A\n",
      " 49%|████▉     | 198M/405M [00:17<00:10, 20.6MB/s]\u001b[A\n",
      " 49%|████▉     | 200M/405M [00:17<00:09, 21.0MB/s]\u001b[A\n",
      " 50%|████▉     | 203M/405M [00:17<00:09, 20.7MB/s]\u001b[A\n",
      " 51%|█████     | 205M/405M [00:17<00:09, 21.0MB/s]\u001b[A\n",
      " 51%|█████     | 207M/405M [00:17<00:09, 20.7MB/s]\u001b[A\n",
      " 52%|█████▏    | 209M/405M [00:17<00:09, 20.1MB/s]\u001b[A\n",
      " 52%|█████▏    | 212M/405M [00:17<00:09, 20.2MB/s]\u001b[A\n",
      " 53%|█████▎    | 215M/405M [00:18<00:08, 21.6MB/s]\u001b[A\n",
      " 53%|█████▎    | 217M/405M [00:18<00:08, 21.4MB/s]\u001b[A\n",
      " 54%|█████▍    | 219M/405M [00:18<00:09, 20.6MB/s]\u001b[A\n",
      " 55%|█████▍    | 221M/405M [00:18<00:08, 20.6MB/s]\u001b[A\n",
      " 55%|█████▌    | 224M/405M [00:18<00:08, 22.0MB/s]\u001b[A\n",
      " 56%|█████▌    | 226M/405M [00:18<00:08, 20.5MB/s]\u001b[A\n",
      " 56%|█████▌    | 228M/405M [00:18<00:08, 20.5MB/s]\u001b[A\n",
      " 57%|█████▋    | 230M/405M [00:18<00:09, 19.4MB/s]\u001b[A\n",
      " 57%|█████▋    | 233M/405M [00:18<00:08, 20.7MB/s]\u001b[A\n",
      " 58%|█████▊    | 235M/405M [00:19<00:08, 21.2MB/s]\u001b[A\n",
      " 58%|█████▊    | 237M/405M [00:19<00:08, 20.9MB/s]\u001b[A\n",
      " 59%|█████▉    | 239M/405M [00:19<00:08, 20.3MB/s]\u001b[A\n",
      " 60%|█████▉    | 241M/405M [00:19<00:07, 20.6MB/s]\u001b[A\n",
      " 60%|██████    | 243M/405M [00:19<00:07, 21.0MB/s]\u001b[A\n",
      " 61%|██████    | 246M/405M [00:19<00:07, 21.0MB/s]\u001b[A\n",
      " 61%|██████    | 248M/405M [00:19<00:07, 20.4MB/s]\u001b[A\n",
      " 62%|██████▏   | 250M/405M [00:19<00:07, 20.8MB/s]\u001b[A\n",
      " 62%|██████▏   | 252M/405M [00:19<00:07, 21.3MB/s]\u001b[A\n",
      " 63%|██████▎   | 254M/405M [00:20<00:07, 21.4MB/s]\u001b[A\n",
      " 63%|██████▎   | 257M/405M [00:20<00:07, 20.6MB/s]\u001b[A\n",
      " 64%|██████▍   | 259M/405M [00:20<00:06, 21.0MB/s]\u001b[A\n",
      " 64%|██████▍   | 261M/405M [00:20<00:06, 21.2MB/s]\u001b[A\n",
      " 65%|██████▍   | 263M/405M [00:20<00:06, 21.1MB/s]\u001b[A\n",
      " 66%|██████▌   | 265M/405M [00:20<00:06, 20.8MB/s]\u001b[A\n",
      " 66%|██████▌   | 268M/405M [00:20<00:06, 19.8MB/s]\u001b[A\n",
      " 67%|██████▋   | 270M/405M [00:20<00:06, 21.6MB/s]\u001b[A\n",
      " 67%|██████▋   | 272M/405M [00:20<00:06, 20.4MB/s]\u001b[A\n",
      " 68%|██████▊   | 275M/405M [00:20<00:06, 20.4MB/s]\u001b[A\n",
      " 68%|██████▊   | 277M/405M [00:21<00:06, 21.0MB/s]\u001b[A\n",
      " 69%|██████▉   | 279M/405M [00:21<00:05, 21.4MB/s]\u001b[A\n",
      " 69%|██████▉   | 281M/405M [00:21<00:06, 20.6MB/s]\u001b[A\n",
      " 70%|██████▉   | 283M/405M [00:21<00:05, 20.3MB/s]\u001b[A\n",
      " 71%|███████   | 286M/405M [00:21<00:05, 21.3MB/s]\u001b[A\n",
      " 71%|███████   | 288M/405M [00:21<00:05, 21.0MB/s]\u001b[A\n",
      " 72%|███████▏  | 290M/405M [00:21<00:05, 20.5MB/s]\u001b[A\n",
      " 72%|███████▏  | 292M/405M [00:21<00:05, 20.1MB/s]\u001b[A\n",
      " 73%|███████▎  | 295M/405M [00:21<00:05, 21.1MB/s]\u001b[A\n",
      " 73%|███████▎  | 297M/405M [00:22<00:05, 21.1MB/s]\u001b[A\n",
      " 74%|███████▎  | 299M/405M [00:22<00:05, 20.7MB/s]\u001b[A\n",
      " 74%|███████▍  | 301M/405M [00:22<00:05, 19.7MB/s]\u001b[A\n",
      " 75%|███████▍  | 304M/405M [00:22<00:04, 21.4MB/s]\u001b[A\n",
      " 75%|███████▌  | 306M/405M [00:22<00:04, 20.7MB/s]\u001b[A\n",
      " 76%|███████▌  | 308M/405M [00:22<00:04, 21.2MB/s]\u001b[A\n",
      " 77%|███████▋  | 310M/405M [00:22<00:04, 20.0MB/s]\u001b[A\n",
      " 77%|███████▋  | 313M/405M [00:22<00:04, 20.7MB/s]\u001b[A\n",
      " 78%|███████▊  | 315M/405M [00:22<00:04, 21.3MB/s]\u001b[A\n",
      " 78%|███████▊  | 317M/405M [00:23<00:04, 21.2MB/s]\u001b[A\n",
      " 79%|███████▉  | 319M/405M [00:23<00:04, 21.2MB/s]\u001b[A\n",
      " 79%|███████▉  | 322M/405M [00:23<00:04, 20.2MB/s]\u001b[A\n",
      " 80%|████████  | 324M/405M [00:23<00:03, 22.0MB/s]\u001b[A\n",
      " 81%|████████  | 327M/405M [00:23<00:03, 20.9MB/s]\u001b[A\n",
      " 81%|████████  | 329M/405M [00:23<00:03, 20.9MB/s]\u001b[A\n",
      " 82%|████████▏ | 331M/405M [00:23<00:03, 20.7MB/s]\u001b[A\n",
      " 82%|████████▏ | 334M/405M [00:23<00:03, 20.6MB/s]\u001b[A\n",
      " 83%|████████▎ | 336M/405M [00:23<00:03, 21.3MB/s]\u001b[A\n",
      " 83%|████████▎ | 338M/405M [00:23<00:03, 21.3MB/s]\u001b[A\n",
      " 84%|████████▍ | 340M/405M [00:24<00:03, 21.3MB/s]\u001b[A\n",
      " 84%|████████▍ | 342M/405M [00:24<00:03, 20.4MB/s]\u001b[A\n",
      " 85%|████████▌ | 345M/405M [00:24<00:02, 21.6MB/s]\u001b[A\n",
      " 86%|████████▌ | 347M/405M [00:24<00:02, 20.3MB/s]\u001b[A\n",
      " 86%|████████▋ | 350M/405M [00:24<00:02, 21.1MB/s]\u001b[A\n",
      " 87%|████████▋ | 352M/405M [00:24<00:02, 21.0MB/s]\u001b[A\n",
      " 87%|████████▋ | 354M/405M [00:24<00:02, 20.3MB/s]\u001b[A\n",
      " 88%|████████▊ | 356M/405M [00:24<00:02, 20.7MB/s]\u001b[A\n",
      " 89%|████████▊ | 359M/405M [00:24<00:02, 21.9MB/s]\u001b[A\n",
      " 89%|████████▉ | 361M/405M [00:25<00:02, 21.1MB/s]\u001b[A\n",
      " 90%|████████▉ | 363M/405M [00:25<00:02, 20.6MB/s]\u001b[A\n",
      " 90%|█████████ | 366M/405M [00:25<00:02, 19.7MB/s]\u001b[A\n",
      " 91%|█████████ | 368M/405M [00:25<00:01, 21.3MB/s]\u001b[A\n",
      " 91%|█████████▏| 370M/405M [00:25<00:01, 21.1MB/s]\u001b[A\n",
      " 92%|█████████▏| 373M/405M [00:25<00:01, 20.8MB/s]\u001b[A\n",
      " 92%|█████████▏| 375M/405M [00:25<00:01, 20.5MB/s]\u001b[A\n",
      " 93%|█████████▎| 377M/405M [00:25<00:01, 20.8MB/s]\u001b[A\n",
      " 94%|█████████▎| 379M/405M [00:25<00:01, 19.9MB/s]\u001b[A\n",
      " 94%|█████████▍| 381M/405M [00:26<00:01, 19.8MB/s]\u001b[A\n",
      " 95%|█████████▍| 383M/405M [00:26<00:01, 20.6MB/s]\u001b[A\n",
      " 95%|█████████▌| 386M/405M [00:26<00:00, 19.7MB/s]\u001b[A\n",
      " 96%|█████████▌| 388M/405M [00:26<00:00, 21.4MB/s]\u001b[A\n",
      " 96%|█████████▋| 391M/405M [00:26<00:00, 20.5MB/s]\u001b[A\n",
      " 97%|█████████▋| 393M/405M [00:26<00:00, 20.1MB/s]\u001b[A\n",
      " 97%|█████████▋| 395M/405M [00:26<00:00, 20.6MB/s]\u001b[A\n",
      " 98%|█████████▊| 397M/405M [00:26<00:00, 21.3MB/s]\u001b[A\n",
      " 99%|█████████▊| 399M/405M [00:26<00:00, 20.8MB/s]\u001b[A\n",
      " 99%|█████████▉| 401M/405M [00:27<00:00, 20.0MB/s]\u001b[A\n",
      "100%|██████████| 405M/405M [00:27<00:00, 14.9MB/s]\n"
     ]
    },
    {
     "data": {
      "application/vnd.jupyter.widget-view+json": {
       "model_id": "55e71a4ec084463f993da50d1dc17144",
       "version_major": 2,
       "version_minor": 0
      },
      "text/plain": [
       "HBox(children=(FloatProgress(value=0.0, description='Batches', max=56.0, style=ProgressStyle(description_width…"
      ]
     },
     "metadata": {
      "tags": []
     },
     "output_type": "display_data"
    },
    {
     "name": "stdout",
     "output_type": "stream",
     "text": [
      "\n",
      "Settings: \n",
      "                   N Components: 50\n",
      "                   Topic Prior Mean: 0.0\n",
      "                   Topic Prior Variance: 0.98\n",
      "                   Model Type: prodLDA\n",
      "                   Hidden Sizes: (100, 100)\n",
      "                   Activation: softplus\n",
      "                   Dropout: 0.2\n",
      "                   Learn Priors: True\n",
      "                   Learning Rate: 0.002\n",
      "                   Momentum: 0.99\n",
      "                   Reduce On Plateau: False\n",
      "                   Save Dir: None\n",
      "Epoch: [1/5]\tSamples: [11108/55540]\tTrain Loss: 84.8958056473586\tTime: 0:00:41.075364\n",
      "Epoch: [2/5]\tSamples: [22216/55540]\tTrain Loss: 75.88208588053092\tTime: 0:00:40.722730\n",
      "Epoch: [3/5]\tSamples: [33324/55540]\tTrain Loss: 72.90492379858549\tTime: 0:00:42.411448\n",
      "Epoch: [4/5]\tSamples: [44432/55540]\tTrain Loss: 71.39902064179533\tTime: 0:00:42.598837\n",
      "Epoch: [5/5]\tSamples: [55540/55540]\tTrain Loss: 70.53364997619255\tTime: 0:00:41.189399\n"
     ]
    }
   ],
   "source": [
    "text_data = \"contextualized-topic-models/contextualized_topic_models/data/gnews/GoogleNews.txt\"\n",
    "handler = TextHandler(text_data)\n",
    "handler.prepare() # create vocabulary and training data\n",
    "\n",
    "# generate BERT data\n",
    "training_bert = bert_embeddings_from_file(text_data, \"bert-base-nli-mean-tokens\")\n",
    "\n",
    "training_dataset = CTMDataset(handler.bow, training_bert, handler.idx2token)\n",
    "\n",
    "ctm = CTM(input_size=len(handler.vocab), bert_input_size=768, num_epochs=5, inference_type=\"combined\", n_components=50)\n",
    "\n",
    "ctm.fit(training_dataset) #"
   ]
  },
  {
   "cell_type": "code",
   "execution_count": 17,
   "metadata": {
    "colab": {
     "base_uri": "https://localhost:8080/",
     "height": 857
    },
    "executionInfo": {
     "elapsed": 926,
     "status": "ok",
     "timestamp": 1602752953503,
     "user": {
      "displayName": "Sahithya Ravi",
      "photoUrl": "",
      "userId": "09578971487708728466"
     },
     "user_tz": -120
    },
    "id": "-3r1EsWpSbVf",
    "outputId": "18accfff-28ac-4b15-ec02-a687c15ec959"
   },
   "outputs": [
    {
     "data": {
      "text/plain": [
       "[['january',\n",
       "  'coalition',\n",
       "  'syria',\n",
       "  'dallas',\n",
       "  'price',\n",
       "  'hp',\n",
       "  'lakers',\n",
       "  'return',\n",
       "  'rising',\n",
       "  'talk'],\n",
       " ['china',\n",
       "  'zone',\n",
       "  'air',\n",
       "  'east',\n",
       "  'storm',\n",
       "  'travel',\n",
       "  'japan',\n",
       "  'year',\n",
       "  'defense',\n",
       "  'black'],\n",
       " ['televised',\n",
       "  'exists',\n",
       "  'quot',\n",
       "  'loyalist',\n",
       "  'sbi',\n",
       "  'patriot',\n",
       "  'warring',\n",
       "  'puffball',\n",
       "  'cdl',\n",
       "  'succeeded'],\n",
       " ['shooting',\n",
       "  'hook',\n",
       "  'flacco',\n",
       "  'sandy',\n",
       "  'joe',\n",
       "  'find',\n",
       "  'specie',\n",
       "  'report',\n",
       "  'philippine',\n",
       "  'benghazi'],\n",
       " ['black',\n",
       "  'friday',\n",
       "  'thanksgiving',\n",
       "  'day',\n",
       "  'parade',\n",
       "  'macy',\n",
       "  'deal',\n",
       "  'shopping',\n",
       "  'travel',\n",
       "  'storm']]"
      ]
     },
     "execution_count": 17,
     "metadata": {
      "tags": []
     },
     "output_type": "execute_result"
    }
   ],
   "source": [
    "ctm.get_topic_lists(10)[0:5]"
   ]
  },
  {
   "cell_type": "code",
   "execution_count": 14,
   "metadata": {
    "colab": {
     "base_uri": "https://localhost:8080/",
     "height": 185
    },
    "executionInfo": {
     "elapsed": 10029,
     "status": "ok",
     "timestamp": 1602752629000,
     "user": {
      "displayName": "Sahithya Ravi",
      "photoUrl": "",
      "userId": "09578971487708728466"
     },
     "user_tz": -120
    },
    "id": "j-MnV4udS7wB",
    "outputId": "5d8a1fc9-82fb-4f92-e255-7c4289dab9e6"
   },
   "outputs": [
    {
     "name": "stdout",
     "output_type": "stream",
     "text": [
      "centrepoint winter white gala london\n",
      "mourinho seek killer instinct\n",
      "roundup golden globe won seduced johansson voice\n",
      "travel disruption mount storm cold air sweep south florida\n",
      "wes welker blame costly turnover\n",
      "psalm book fetch record ny auction ktvn channel reno\n",
      "surface review comparison window powered tablet pitted\n",
      "scientist unreported fish trap space\n",
      "nokia lumia launch\n",
      "edward snowden latest leak nsa monitored online porn habit radicalizers\n"
     ]
    }
   ],
   "source": [
    "!head -n 10 contextualized-topic-models/contextualized_topic_models/data/gnews/GoogleNews.txt"
   ]
  },
  {
   "cell_type": "code",
   "execution_count": 15,
   "metadata": {
    "colab": {
     "base_uri": "https://localhost:8080/",
     "height": 336
    },
    "executionInfo": {
     "elapsed": 173285,
     "status": "ok",
     "timestamp": 1602752826090,
     "user": {
      "displayName": "Sahithya Ravi",
      "photoUrl": "",
      "userId": "09578971487708728466"
     },
     "user_tz": -120
    },
    "id": "FFZcyGb0TD34",
    "outputId": "8f627102-81a2-4c9e-947d-83b18560481a"
   },
   "outputs": [
    {
     "name": "stdout",
     "output_type": "stream",
     "text": [
      "[0.01772087 0.00175645 0.00626474 0.00188368 0.00400238 0.00096521\n",
      " 0.00529039 0.03329853 0.00288793 0.03965873 0.0028936  0.00222997\n",
      " 0.0027553  0.02236774 0.01360584 0.00096662 0.00656589 0.03264964\n",
      " 0.08536667 0.00241875 0.05776385 0.00330703 0.03124499 0.02081452\n",
      " 0.00333235 0.00387033 0.00367488 0.03731911 0.00375018 0.11714788\n",
      " 0.00267    0.00127942 0.00075158 0.00324932 0.01004187 0.07404059\n",
      " 0.01738823 0.00233804 0.04946441 0.01544206 0.05472169 0.00485155\n",
      " 0.00160233 0.01822515 0.04081684 0.0046229  0.00243613 0.02791755\n",
      " 0.09447254 0.00589375]\n"
     ]
    },
    {
     "data": {
      "text/plain": [
       "['microsoft',\n",
       " 'kanye',\n",
       " 'xbox',\n",
       " 'rogen',\n",
       " 'west',\n",
       " 'console',\n",
       " 'seth',\n",
       " 'bound',\n",
       " 'kim',\n",
       " 'video']"
      ]
     },
     "execution_count": 15,
     "metadata": {
      "tags": []
     },
     "output_type": "execute_result"
    }
   ],
   "source": [
    "import numpy as np\n",
    "\n",
    "distribution = ctm.get_thetas(training_dataset)[8] # topic distribution for the eight document\n",
    "\n",
    "print(distribution)\n",
    "\n",
    "topic = np.argmax(distribution)\n",
    "\n",
    "ctm.get_topic_lists(10)[topic]"
   ]
  },
  {
   "cell_type": "code",
   "execution_count": null,
   "metadata": {
    "id": "LJcnkd7STHow"
   },
   "outputs": [],
   "source": [
    "from contextualized_topic_models.evaluation.measures import TopicDiversity, CoherenceNPMI,\\\n",
    "    CoherenceWordEmbeddings, InvertedRBO"
   ]
  },
  {
   "cell_type": "code",
   "execution_count": null,
   "metadata": {
    "colab": {
     "base_uri": "https://localhost:8080/",
     "height": 34
    },
    "executionInfo": {
     "elapsed": 739,
     "status": "ok",
     "timestamp": 1600031667082,
     "user": {
      "displayName": "Sahithya Ravi",
      "photoUrl": "",
      "userId": "09578971487708728466"
     },
     "user_tz": -120
    },
    "id": "P97v5NBCTLcw",
    "outputId": "0097f497-1943-46c5-b250-5ef725018c18"
   },
   "outputs": [
    {
     "data": {
      "text/plain": [
       "0.5184"
      ]
     },
     "execution_count": 13,
     "metadata": {
      "tags": []
     },
     "output_type": "execute_result"
    }
   ],
   "source": [
    "td = TopicDiversity(ctm.get_topic_lists(25))\n",
    "td.score(topk=25)"
   ]
  },
  {
   "cell_type": "code",
   "execution_count": null,
   "metadata": {
    "colab": {
     "base_uri": "https://localhost:8080/",
     "height": 34
    },
    "executionInfo": {
     "elapsed": 1159,
     "status": "ok",
     "timestamp": 1600031671826,
     "user": {
      "displayName": "Sahithya Ravi",
      "photoUrl": "",
      "userId": "09578971487708728466"
     },
     "user_tz": -120
    },
    "id": "UpL-9efYTQyz",
    "outputId": "d0902434-8129-4377-a0c6-11428153b6e9"
   },
   "outputs": [
    {
     "data": {
      "text/plain": [
       "0.9729745695973586"
      ]
     },
     "execution_count": 14,
     "metadata": {
      "tags": []
     },
     "output_type": "execute_result"
    }
   ],
   "source": [
    "rbo = InvertedRBO(ctm.get_topic_lists(10))\n",
    "rbo.score()"
   ]
  },
  {
   "cell_type": "code",
   "execution_count": null,
   "metadata": {
    "id": "bCL89ixkUcFV"
   },
   "outputs": [],
   "source": []
  }
 ],
 "metadata": {
  "colab": {
   "authorship_tag": "ABX9TyNhrytemGZ93oMuGuKaY/8I",
   "collapsed_sections": [],
   "name": "contextualized_model_example.ipynb",
   "provenance": []
  },
  "kernelspec": {
   "display_name": "Python 3",
   "language": "python",
   "name": "python3"
  },
  "language_info": {
   "codemirror_mode": {
    "name": "ipython",
    "version": 3
   },
   "file_extension": ".py",
   "mimetype": "text/x-python",
   "name": "python",
   "nbconvert_exporter": "python",
   "pygments_lexer": "ipython3",
   "version": "3.7.3"
  },
  "widgets": {
   "application/vnd.jupyter.widget-state+json": {
    "0bdba7948a2f439791f9bfc9d13c8771": {
     "model_module": "@jupyter-widgets/controls",
     "model_name": "HTMLModel",
     "state": {
      "_dom_classes": [],
      "_model_module": "@jupyter-widgets/controls",
      "_model_module_version": "1.5.0",
      "_model_name": "HTMLModel",
      "_view_count": null,
      "_view_module": "@jupyter-widgets/controls",
      "_view_module_version": "1.5.0",
      "_view_name": "HTMLView",
      "description": "",
      "description_tooltip": null,
      "layout": "IPY_MODEL_1556b4bdb50047ca9f26b847687e6174",
      "placeholder": "​",
      "style": "IPY_MODEL_3a6027c464354a198fa9f6b1bdb5f436",
      "value": " 56/56 [16:44&lt;00:00, 17.94s/it]"
     }
    },
    "1556b4bdb50047ca9f26b847687e6174": {
     "model_module": "@jupyter-widgets/base",
     "model_name": "LayoutModel",
     "state": {
      "_model_module": "@jupyter-widgets/base",
      "_model_module_version": "1.2.0",
      "_model_name": "LayoutModel",
      "_view_count": null,
      "_view_module": "@jupyter-widgets/base",
      "_view_module_version": "1.2.0",
      "_view_name": "LayoutView",
      "align_content": null,
      "align_items": null,
      "align_self": null,
      "border": null,
      "bottom": null,
      "display": null,
      "flex": null,
      "flex_flow": null,
      "grid_area": null,
      "grid_auto_columns": null,
      "grid_auto_flow": null,
      "grid_auto_rows": null,
      "grid_column": null,
      "grid_gap": null,
      "grid_row": null,
      "grid_template_areas": null,
      "grid_template_columns": null,
      "grid_template_rows": null,
      "height": null,
      "justify_content": null,
      "justify_items": null,
      "left": null,
      "margin": null,
      "max_height": null,
      "max_width": null,
      "min_height": null,
      "min_width": null,
      "object_fit": null,
      "object_position": null,
      "order": null,
      "overflow": null,
      "overflow_x": null,
      "overflow_y": null,
      "padding": null,
      "right": null,
      "top": null,
      "visibility": null,
      "width": null
     }
    },
    "3a6027c464354a198fa9f6b1bdb5f436": {
     "model_module": "@jupyter-widgets/controls",
     "model_name": "DescriptionStyleModel",
     "state": {
      "_model_module": "@jupyter-widgets/controls",
      "_model_module_version": "1.5.0",
      "_model_name": "DescriptionStyleModel",
      "_view_count": null,
      "_view_module": "@jupyter-widgets/base",
      "_view_module_version": "1.2.0",
      "_view_name": "StyleView",
      "description_width": ""
     }
    },
    "55e71a4ec084463f993da50d1dc17144": {
     "model_module": "@jupyter-widgets/controls",
     "model_name": "HBoxModel",
     "state": {
      "_dom_classes": [],
      "_model_module": "@jupyter-widgets/controls",
      "_model_module_version": "1.5.0",
      "_model_name": "HBoxModel",
      "_view_count": null,
      "_view_module": "@jupyter-widgets/controls",
      "_view_module_version": "1.5.0",
      "_view_name": "HBoxView",
      "box_style": "",
      "children": [
       "IPY_MODEL_b69a5d953d04447f80d1d6f5d68c2488",
       "IPY_MODEL_0bdba7948a2f439791f9bfc9d13c8771"
      ],
      "layout": "IPY_MODEL_73fa12cb67c34fb5a711477aef2602fe"
     }
    },
    "73fa12cb67c34fb5a711477aef2602fe": {
     "model_module": "@jupyter-widgets/base",
     "model_name": "LayoutModel",
     "state": {
      "_model_module": "@jupyter-widgets/base",
      "_model_module_version": "1.2.0",
      "_model_name": "LayoutModel",
      "_view_count": null,
      "_view_module": "@jupyter-widgets/base",
      "_view_module_version": "1.2.0",
      "_view_name": "LayoutView",
      "align_content": null,
      "align_items": null,
      "align_self": null,
      "border": null,
      "bottom": null,
      "display": null,
      "flex": null,
      "flex_flow": null,
      "grid_area": null,
      "grid_auto_columns": null,
      "grid_auto_flow": null,
      "grid_auto_rows": null,
      "grid_column": null,
      "grid_gap": null,
      "grid_row": null,
      "grid_template_areas": null,
      "grid_template_columns": null,
      "grid_template_rows": null,
      "height": null,
      "justify_content": null,
      "justify_items": null,
      "left": null,
      "margin": null,
      "max_height": null,
      "max_width": null,
      "min_height": null,
      "min_width": null,
      "object_fit": null,
      "object_position": null,
      "order": null,
      "overflow": null,
      "overflow_x": null,
      "overflow_y": null,
      "padding": null,
      "right": null,
      "top": null,
      "visibility": null,
      "width": null
     }
    },
    "9d25e4a975dd40a19febc6ac21d875b8": {
     "model_module": "@jupyter-widgets/base",
     "model_name": "LayoutModel",
     "state": {
      "_model_module": "@jupyter-widgets/base",
      "_model_module_version": "1.2.0",
      "_model_name": "LayoutModel",
      "_view_count": null,
      "_view_module": "@jupyter-widgets/base",
      "_view_module_version": "1.2.0",
      "_view_name": "LayoutView",
      "align_content": null,
      "align_items": null,
      "align_self": null,
      "border": null,
      "bottom": null,
      "display": null,
      "flex": null,
      "flex_flow": null,
      "grid_area": null,
      "grid_auto_columns": null,
      "grid_auto_flow": null,
      "grid_auto_rows": null,
      "grid_column": null,
      "grid_gap": null,
      "grid_row": null,
      "grid_template_areas": null,
      "grid_template_columns": null,
      "grid_template_rows": null,
      "height": null,
      "justify_content": null,
      "justify_items": null,
      "left": null,
      "margin": null,
      "max_height": null,
      "max_width": null,
      "min_height": null,
      "min_width": null,
      "object_fit": null,
      "object_position": null,
      "order": null,
      "overflow": null,
      "overflow_x": null,
      "overflow_y": null,
      "padding": null,
      "right": null,
      "top": null,
      "visibility": null,
      "width": null
     }
    },
    "ac0a1f26448a4ca29a61e0d0210f6236": {
     "model_module": "@jupyter-widgets/controls",
     "model_name": "ProgressStyleModel",
     "state": {
      "_model_module": "@jupyter-widgets/controls",
      "_model_module_version": "1.5.0",
      "_model_name": "ProgressStyleModel",
      "_view_count": null,
      "_view_module": "@jupyter-widgets/base",
      "_view_module_version": "1.2.0",
      "_view_name": "StyleView",
      "bar_color": null,
      "description_width": "initial"
     }
    },
    "b69a5d953d04447f80d1d6f5d68c2488": {
     "model_module": "@jupyter-widgets/controls",
     "model_name": "FloatProgressModel",
     "state": {
      "_dom_classes": [],
      "_model_module": "@jupyter-widgets/controls",
      "_model_module_version": "1.5.0",
      "_model_name": "FloatProgressModel",
      "_view_count": null,
      "_view_module": "@jupyter-widgets/controls",
      "_view_module_version": "1.5.0",
      "_view_name": "ProgressView",
      "bar_style": "success",
      "description": "Batches: 100%",
      "description_tooltip": null,
      "layout": "IPY_MODEL_9d25e4a975dd40a19febc6ac21d875b8",
      "max": 56,
      "min": 0,
      "orientation": "horizontal",
      "style": "IPY_MODEL_ac0a1f26448a4ca29a61e0d0210f6236",
      "value": 56
     }
    }
   }
  }
 },
 "nbformat": 4,
 "nbformat_minor": 1
}
