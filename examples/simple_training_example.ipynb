{
 "cells": [
  {
   "cell_type": "code",
   "execution_count": 4,
   "id": "f3064df4",
   "metadata": {},
   "outputs": [],
   "source": [
    "import os\n",
    "os.getcwd()\n",
    "os.chdir('../')"
   ]
  },
  {
   "cell_type": "code",
   "execution_count": 7,
   "id": "157b9bbd",
   "metadata": {},
   "outputs": [],
   "source": [
    "import pandas as pd\n",
    "\n",
    "from openml_topic.model import Model\n",
    "from openml_topic.preprocess import Process"
   ]
  },
  {
   "cell_type": "markdown",
   "id": "132512f7",
   "metadata": {},
   "source": [
    "A downloaded version of the dataset is already available in the data folder.\n",
    "Let us use this version for modeling."
   ]
  },
  {
   "cell_type": "code",
   "execution_count": 12,
   "id": "05a41b7d",
   "metadata": {},
   "outputs": [
    {
     "data": {
      "text/html": [
       "<div>\n",
       "<style scoped>\n",
       "    .dataframe tbody tr th:only-of-type {\n",
       "        vertical-align: middle;\n",
       "    }\n",
       "\n",
       "    .dataframe tbody tr th {\n",
       "        vertical-align: top;\n",
       "    }\n",
       "\n",
       "    .dataframe thead th {\n",
       "        text-align: right;\n",
       "    }\n",
       "</style>\n",
       "<table border=\"1\" class=\"dataframe\">\n",
       "  <thead>\n",
       "    <tr style=\"text-align: right;\">\n",
       "      <th></th>\n",
       "      <th>Unnamed: 0</th>\n",
       "      <th>id</th>\n",
       "      <th>name</th>\n",
       "      <th>text</th>\n",
       "      <th>len</th>\n",
       "    </tr>\n",
       "  </thead>\n",
       "  <tbody>\n",
       "    <tr>\n",
       "      <th>0</th>\n",
       "      <td>0</td>\n",
       "      <td>41971</td>\n",
       "      <td>1DUltrasoundMuscleContractionData</td>\n",
       "      <td>This collection includes 21 data sets of one-d...</td>\n",
       "      <td>504</td>\n",
       "    </tr>\n",
       "    <tr>\n",
       "      <th>1</th>\n",
       "      <td>1</td>\n",
       "      <td>42565</td>\n",
       "      <td>1m</td>\n",
       "      <td>student performance 1 1m</td>\n",
       "      <td>25</td>\n",
       "    </tr>\n",
       "    <tr>\n",
       "      <th>2</th>\n",
       "      <td>2</td>\n",
       "      <td>40517</td>\n",
       "      <td>20_newsgroups.drift</td>\n",
       "      <td>Automated file upload of 20_newsgroups.drift 2...</td>\n",
       "      <td>65</td>\n",
       "    </tr>\n",
       "    <tr>\n",
       "      <th>3</th>\n",
       "      <td>3</td>\n",
       "      <td>215</td>\n",
       "      <td>2dplanes</td>\n",
       "      <td>**Author**:   \\n**Source**: Unknown -   \\n**Pl...</td>\n",
       "      <td>774</td>\n",
       "    </tr>\n",
       "    <tr>\n",
       "      <th>4</th>\n",
       "      <td>4</td>\n",
       "      <td>42890</td>\n",
       "      <td>AI4I2020</td>\n",
       "      <td>The AI4I 2020 Predictive Maintenance Dataset i...</td>\n",
       "      <td>405</td>\n",
       "    </tr>\n",
       "    <tr>\n",
       "      <th>5</th>\n",
       "      <td>5</td>\n",
       "      <td>41138</td>\n",
       "      <td>APSFailure</td>\n",
       "      <td>This is the dataset used for the 2016 IDA Indu...</td>\n",
       "      <td>385</td>\n",
       "    </tr>\n",
       "    <tr>\n",
       "      <th>6</th>\n",
       "      <td>6</td>\n",
       "      <td>1145</td>\n",
       "      <td>AP_Breast_Colon</td>\n",
       "      <td>**Author**:   \\n**Source**: Unknown - Date unk...</td>\n",
       "      <td>2421</td>\n",
       "    </tr>\n",
       "    <tr>\n",
       "      <th>7</th>\n",
       "      <td>7</td>\n",
       "      <td>1158</td>\n",
       "      <td>AP_Breast_Kidney</td>\n",
       "      <td>**Author**:   \\n**Source**: Unknown - Date unk...</td>\n",
       "      <td>2422</td>\n",
       "    </tr>\n",
       "    <tr>\n",
       "      <th>8</th>\n",
       "      <td>8</td>\n",
       "      <td>1150</td>\n",
       "      <td>AP_Breast_Lung</td>\n",
       "      <td>**Author**:   \\n**Source**: Unknown - Date unk...</td>\n",
       "      <td>2420</td>\n",
       "    </tr>\n",
       "    <tr>\n",
       "      <th>9</th>\n",
       "      <td>9</td>\n",
       "      <td>1127</td>\n",
       "      <td>AP_Breast_Omentum</td>\n",
       "      <td>**Author**:   \\n**Source**: Unknown - Date unk...</td>\n",
       "      <td>2423</td>\n",
       "    </tr>\n",
       "  </tbody>\n",
       "</table>\n",
       "</div>"
      ],
      "text/plain": [
       "   Unnamed: 0     id                               name  \\\n",
       "0           0  41971  1DUltrasoundMuscleContractionData   \n",
       "1           1  42565                                 1m   \n",
       "2           2  40517                20_newsgroups.drift   \n",
       "3           3    215                           2dplanes   \n",
       "4           4  42890                           AI4I2020   \n",
       "5           5  41138                         APSFailure   \n",
       "6           6   1145                    AP_Breast_Colon   \n",
       "7           7   1158                   AP_Breast_Kidney   \n",
       "8           8   1150                     AP_Breast_Lung   \n",
       "9           9   1127                  AP_Breast_Omentum   \n",
       "\n",
       "                                                text   len  \n",
       "0  This collection includes 21 data sets of one-d...   504  \n",
       "1                          student performance 1 1m     25  \n",
       "2  Automated file upload of 20_newsgroups.drift 2...    65  \n",
       "3  **Author**:   \\n**Source**: Unknown -   \\n**Pl...   774  \n",
       "4  The AI4I 2020 Predictive Maintenance Dataset i...   405  \n",
       "5  This is the dataset used for the 2016 IDA Indu...   385  \n",
       "6  **Author**:   \\n**Source**: Unknown - Date unk...  2421  \n",
       "7  **Author**:   \\n**Source**: Unknown - Date unk...  2422  \n",
       "8  **Author**:   \\n**Source**: Unknown - Date unk...  2420  \n",
       "9  **Author**:   \\n**Source**: Unknown - Date unk...  2423  "
      ]
     },
     "execution_count": 12,
     "metadata": {},
     "output_type": "execute_result"
    }
   ],
   "source": [
    "DATASET_PATH = 'data/openml_dataset.csv'\n",
    "df_raw = pd.read_csv(DATASET_PATH)\n",
    "df_raw.head(10)"
   ]
  },
  {
   "cell_type": "markdown",
   "id": "8dae12b7",
   "metadata": {},
   "source": [
    "We are going to pre-process the dataset.\n",
    "We are including only the NOUNs in the text in this case, but feel free to add 'VERB', 'ADJ'\n",
    "or any spacy compatible POS tags."
   ]
  },
  {
   "cell_type": "code",
   "execution_count": null,
   "id": "56fa8550",
   "metadata": {},
   "outputs": [],
   "source": [
    "parts_of_speech_included = ['NOUN']\n",
    "processor = Process(parts_of_speech=parts_of_speech)\n",
    "df = processor.get_processed_data(df_raw)"
   ]
  },
  {
   "cell_type": "markdown",
   "id": "ff7baf64",
   "metadata": {},
   "source": [
    "Now we are going to train a topic model."
   ]
  },
  {
   "cell_type": "code",
   "execution_count": null,
   "id": "f6460190",
   "metadata": {},
   "outputs": [],
   "source": [
    "documents = df[\"processed\"].values\n",
    "model = Model()\n",
    "model.train_test_split(documents, df=df)\n",
    "\n",
    "result_folder = 'results/' + parts_of_speech_included+ FILTER\n",
    "model.grid_search(result_folder)\n",
    "final_lda, result_dict = model.final_model(n=0, path=result_folder+'lda_tuning_results.csv',\n",
    "                                                   result_folder=result_folder)\n",
    "model.save_all_topics(lda_model=final_lda, folder_path=result_folder, topwords = result_dict['topwords'])"
   ]
  }
 ],
 "metadata": {
  "kernelspec": {
   "display_name": "Python 3",
   "language": "python",
   "name": "python3"
  },
  "language_info": {
   "codemirror_mode": {
    "name": "ipython",
    "version": 3
   },
   "file_extension": ".py",
   "mimetype": "text/x-python",
   "name": "python",
   "nbconvert_exporter": "python",
   "pygments_lexer": "ipython3",
   "version": "3.7.8"
  }
 },
 "nbformat": 4,
 "nbformat_minor": 5
}
